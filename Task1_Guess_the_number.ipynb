{
  "nbformat": 4,
  "nbformat_minor": 0,
  "metadata": {
    "colab": {
      "provenance": [],
      "authorship_tag": "ABX9TyMJBOUl7Cuet6rL7HnnMbkY",
      "include_colab_link": true
    },
    "kernelspec": {
      "name": "python3",
      "display_name": "Python 3"
    },
    "language_info": {
      "name": "python"
    }
  },
  "cells": [
    {
      "cell_type": "markdown",
      "metadata": {
        "id": "view-in-github",
        "colab_type": "text"
      },
      "source": [
        "<a href=\"https://colab.research.google.com/github/MSJahnavi/InnovixionTech-Nov/blob/main/Task1_Guess_the_number.ipynb\" target=\"_parent\"><img src=\"https://colab.research.google.com/assets/colab-badge.svg\" alt=\"Open In Colab\"/></a>"
      ]
    },
    {
      "cell_type": "code",
      "execution_count": null,
      "metadata": {
        "colab": {
          "base_uri": "https://localhost:8080/"
        },
        "id": "W__vdzb98diV",
        "outputId": "d5da7b78-35a8-4f1a-f0f3-c33d729985be"
      },
      "outputs": [
        {
          "output_type": "stream",
          "name": "stdout",
          "text": [
            "Welcome to the Number Guessing Game!\n",
            "I have selected a random number between 1 and 100.Can you guess it?\n",
            "Enter your guess: 52\n",
            "Too low!Try again.\n",
            "Enter your guess: 85\n",
            "Too high!Try again.\n",
            "Enter your guess: 66\n",
            "Too low!Try again.\n",
            "Enter your guess: 72\n",
            "Too low!Try again.\n",
            "Enter your guess: 79\n",
            "Too low!Try again.\n",
            "Enter your guess: 83\n",
            "Too high!Try again.\n",
            "Enter your guess: 81\n",
            "Congratulations!You guessed the number in 7 attempts.\n"
          ]
        }
      ],
      "source": [
        "#innovixion task-1\n",
        "import random\n",
        "def guess():\n",
        "    n=random.randint(1, 100)\n",
        "    c=0\n",
        "    print(\"Welcome to the Number Guessing Game!\")\n",
        "    print(\"I have selected a random number between 1 and 100.Can you guess it?\")\n",
        "    while True:\n",
        "        try:\n",
        "            num=int(input(\"Enter your guess: \"))\n",
        "        except ValueError:\n",
        "            print(\"Invalid input.Please enter a number.\")\n",
        "            continue\n",
        "\n",
        "        c+=1\n",
        "        if num<n:\n",
        "            print(\"Too low!Try again.\")\n",
        "        elif num>n:\n",
        "            print(\"Too high!Try again.\")\n",
        "        else:\n",
        "            print(f\"Congratulations!You guessed the number in {c} attempts.\")\n",
        "            break\n",
        "        if c>=10:\n",
        "            print(f\"Sorry, you've reached the maximum number of attempts.The correct number was {n}.Better luck next time!\")\n",
        "            break\n",
        "guess()\n"
      ]
    }
  ]
}